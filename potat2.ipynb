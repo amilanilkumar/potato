{
 "cells": [
  {
   "cell_type": "code",
   "execution_count": 19,
   "id": "826640f4",
   "metadata": {},
   "outputs": [],
   "source": [
    "import tensorflow as tf\n",
    "from tensorflow.keras import models, layers\n",
    "import matplotlib.pyplot as plt\n",
    "from matplotlib import image\n",
    "\n",
    "from numpy import asarray"
   ]
  },
  {
   "cell_type": "code",
   "execution_count": 20,
   "id": "4626e258",
   "metadata": {},
   "outputs": [],
   "source": [
    "IMAGE_SIZE=256\n",
    "BATCH_SIZE=32\n",
    "TRAINING_SIZE=0.8\n",
    "VALIDATION_SIZE=0.1\n",
    "TEST_SIZE=0.1\n",
    "CHANNEL=3\n",
    "EPOCHS=50"
   ]
  },
  {
   "cell_type": "code",
   "execution_count": 21,
   "id": "79feca3c",
   "metadata": {},
   "outputs": [
    {
     "name": "stdout",
     "output_type": "stream",
     "text": [
      "Found 2152 files belonging to 3 classes.\n"
     ]
    }
   ],
   "source": [
    "dataset=tf.keras.preprocessing.image_dataset_from_directory(\n",
    "    \"PlantVillage\",\n",
    "    shuffle=True,\n",
    "    image_size=(IMAGE_SIZE,IMAGE_SIZE),\n",
    "    batch_size=BATCH_SIZE\n",
    ")"
   ]
  },
  {
   "cell_type": "code",
   "execution_count": 22,
   "id": "7c7ec0f3",
   "metadata": {},
   "outputs": [
    {
     "data": {
      "text/plain": [
       "['Potato___Early_blight', 'Potato___Late_blight', 'Potato___healthy']"
      ]
     },
     "execution_count": 22,
     "metadata": {},
     "output_type": "execute_result"
    }
   ],
   "source": [
    "class_names=dataset.class_names\n",
    "class_names"
   ]
  },
  {
   "cell_type": "code",
   "execution_count": null,
   "id": "897dfcff",
   "metadata": {},
   "outputs": [],
   "source": []
  },
  {
   "cell_type": "code",
   "execution_count": null,
   "id": "af3a5d34",
   "metadata": {},
   "outputs": [],
   "source": []
  },
  {
   "cell_type": "code",
   "execution_count": 23,
   "id": "e63b2d1c",
   "metadata": {},
   "outputs": [],
   "source": [
    "def split_data_to_Partion(dataset,TRAINING_SIZE,VALIDATIION_SIZE,TEST_SIZE):\n",
    "    train_ds=dataset.take(int(len(dataset)*TRAINING_SIZE))\n",
    "    validation_ds=dataset.skip(len(train_ds)).take(int(len(dataset)*VALIDATION_SIZE))\n",
    "    teststartposition=len(train_ds)+len(validation_ds)\n",
    "    test_ds=dataset.skip(teststartposition)\n",
    "\n",
    "    return train_ds,validation_ds,test_ds"
   ]
  },
  {
   "cell_type": "code",
   "execution_count": 24,
   "id": "68c11b80",
   "metadata": {},
   "outputs": [
    {
     "name": "stdout",
     "output_type": "stream",
     "text": [
      "54 6 8\n"
     ]
    }
   ],
   "source": [
    "train_ds,validation_ds,test_ds=split_data_to_Partion(dataset,TRAINING_SIZE,VALIDATION_SIZE,TEST_SIZE)\n",
    "print(len(train_ds),len(validation_ds),len(test_ds))"
   ]
  },
  {
   "cell_type": "code",
   "execution_count": 25,
   "id": "7a0baf4d",
   "metadata": {},
   "outputs": [],
   "source": [
    "resize_and_rescale=tf.keras.Sequential([\n",
    "    layers.experimental.preprocessing.Resizing(IMAGE_SIZE, IMAGE_SIZE),\n",
    "    layers.experimental.preprocessing.Rescaling(1.0/255)\n",
    "])"
   ]
  },
  {
   "cell_type": "code",
   "execution_count": 26,
   "id": "091bedd6",
   "metadata": {},
   "outputs": [],
   "source": [
    "data_augmentation= tf.keras.Sequential([\n",
    "    layers.experimental.preprocessing.RandomFlip(\"horizontal_and_vertical\"),\n",
    "    layers.experimental.preprocessing.RandomRotation(0.2),\n",
    "])"
   ]
  },
  {
   "cell_type": "code",
   "execution_count": 27,
   "id": "3d5bfee7",
   "metadata": {},
   "outputs": [],
   "source": [
    "input_shape=(BATCH_SIZE,IMAGE_SIZE, IMAGE_SIZE,CHANNEL)\n",
    "n=3\n",
    "model=models.Sequential([\n",
    "    resize_and_rescale,\n",
    "    data_augmentation,\n",
    "    layers.Conv2D(32,(3,3),activation='relu',input_shape= input_shape),\n",
    "    layers.MaxPooling2D((2,2)),\n",
    "    layers.Conv2D(64,kernel_size=(3,3),activation='relu'),\n",
    "    layers.MaxPooling2D((2,2)),\n",
    "    layers.Conv2D(64,kernel_size=(3,3),activation='relu'),\n",
    "    layers.MaxPooling2D((2,2)),\n",
    "    layers.Conv2D(64,(3,3),activation='relu'),\n",
    "    layers.MaxPooling2D((2,2)),\n",
    "    layers.Conv2D(64,(3,3),activation='relu'),\n",
    "    layers.MaxPooling2D((2,2)),\n",
    "    layers.Conv2D(64,(3,3),activation='relu'),\n",
    "    layers.MaxPooling2D((2,2)),\n",
    "    layers.Flatten(),\n",
    "    layers.Dense(64,activation='relu'),\n",
    "    layers.Dense(n,activation='softmax'),\n",
    "])\n",
    "model.build(input_shape=input_shape)\n"
   ]
  },
  {
   "cell_type": "code",
   "execution_count": 28,
   "id": "8bb1cb28",
   "metadata": {},
   "outputs": [],
   "source": [
    "model.compile(\n",
    "optimizer='adam',\n",
    "loss=tf.keras.losses.SparseCategoricalCrossentropy(from_logits=False),\n",
    "metrics=['accuracy']\n",
    ")"
   ]
  },
  {
   "cell_type": "code",
   "execution_count": null,
   "id": "4c2f3a4d",
   "metadata": {},
   "outputs": [
    {
     "name": "stdout",
     "output_type": "stream",
     "text": [
      "Epoch 1/50\n",
      "54/54 [==============================] - 114s 2s/step - loss: 0.9037 - accuracy: 0.4630 - val_loss: 0.8441 - val_accuracy: 0.4844\n",
      "Epoch 2/50\n",
      "54/54 [==============================] - 107s 2s/step - loss: 0.6660 - accuracy: 0.6898 - val_loss: 0.4230 - val_accuracy: 0.8542\n",
      "Epoch 3/50\n",
      "54/54 [==============================] - 134s 2s/step - loss: 0.3475 - accuracy: 0.8536 - val_loss: 0.2783 - val_accuracy: 0.8854\n",
      "Epoch 4/50\n",
      "54/54 [==============================] - 144s 3s/step - loss: 0.3001 - accuracy: 0.8843 - val_loss: 0.2858 - val_accuracy: 0.8854\n",
      "Epoch 5/50\n",
      "54/54 [==============================] - 195s 4s/step - loss: 0.2682 - accuracy: 0.8848 - val_loss: 0.2082 - val_accuracy: 0.9115\n",
      "Epoch 6/50\n",
      "54/54 [==============================] - 173s 3s/step - loss: 0.2510 - accuracy: 0.8970 - val_loss: 0.3244 - val_accuracy: 0.8438\n",
      "Epoch 7/50\n",
      "54/54 [==============================] - 147s 3s/step - loss: 0.2124 - accuracy: 0.9242 - val_loss: 0.1652 - val_accuracy: 0.9115\n",
      "Epoch 8/50\n",
      " 9/54 [====>.........................] - ETA: 1:41 - loss: 0.1799 - accuracy: 0.9236"
     ]
    }
   ],
   "source": [
    "history= model.fit(\n",
    "train_ds,\n",
    "epochs=EPOCHS,\n",
    "batch_size=BATCH_SIZE,\n",
    "verbose=1,\n",
    "validation_data=validation_ds\n",
    ")"
   ]
  },
  {
   "cell_type": "code",
   "execution_count": null,
   "id": "7516083c",
   "metadata": {},
   "outputs": [],
   "source": [
    "scores=model.evaluate(test_ds)"
   ]
  },
  {
   "cell_type": "code",
   "execution_count": null,
   "id": "6372fc40",
   "metadata": {},
   "outputs": [],
   "source": [
    "acc=history.history['accuracy']\n",
    "val_acc=history.history['val_accuracy']\n",
    "loss=history.history['loss']\n",
    "val_loss= history.history['val_loss']"
   ]
  },
  {
   "cell_type": "code",
   "execution_count": null,
   "id": "f70609bd",
   "metadata": {},
   "outputs": [],
   "source": []
  },
  {
   "cell_type": "code",
   "execution_count": null,
   "id": "59b0de77",
   "metadata": {},
   "outputs": [],
   "source": [
    "def predict(model,img):\n",
    "    img_array=tf.keras.preprocessing.image.img_to_array(images[i].numpy())\n",
    "    img_array=tf.expand_dims(img_array,0)\n",
    "    \n",
    "    predictions=model.predict(img_array)\n",
    "    \n",
    "    predicted_class=class_names[numpy.argmax(predictions[0])]\n",
    "    confidence=round(100*(numpy.max(predictions[0])),2)\n",
    "    return predicted_class, confidence"
   ]
  },
  {
   "cell_type": "code",
   "execution_count": null,
   "id": "ce0cf4b0",
   "metadata": {},
   "outputs": [],
   "source": [
    "plt.figure(figsize=(15,15))\n",
    "for images, labels in test_ds.take(1):\n",
    "    for i in range(9):\n",
    "        ax=plt.subplot(3,3,i+1)\n",
    "        plt.imshow(images[i].numpy().astype('uint8'))\n",
    "        predicted_class, confidence=predict(model,images[i].numpy())\n",
    "    \n",
    "        actual_class=class_names[labels[i]]\n",
    "        plt.title(f\"Atual:{actual_class}, \\n Predicted:{predicted_class}.\\n Confidence:{confidence}%\")"
   ]
  },
  {
   "cell_type": "code",
   "execution_count": null,
   "id": "4304f17e",
   "metadata": {},
   "outputs": [],
   "source": [
    "model_version=1\n",
    "model.save(f\"model/{model_version}\")"
   ]
  }
 ],
 "metadata": {
  "kernelspec": {
   "display_name": "Python 3 (ipykernel)",
   "language": "python",
   "name": "python3"
  },
  "language_info": {
   "codemirror_mode": {
    "name": "ipython",
    "version": 3
   },
   "file_extension": ".py",
   "mimetype": "text/x-python",
   "name": "python",
   "nbconvert_exporter": "python",
   "pygments_lexer": "ipython3",
   "version": "3.11.5"
  }
 },
 "nbformat": 4,
 "nbformat_minor": 5
}
